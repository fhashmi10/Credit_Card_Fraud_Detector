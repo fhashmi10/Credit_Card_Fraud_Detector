{
 "cells": [
  {
   "cell_type": "code",
   "execution_count": 1,
   "metadata": {},
   "outputs": [
    {
     "name": "stdout",
     "output_type": "stream",
     "text": [
      "Requirement already satisfied: dtale in c:\\users\\fhash\\anaconda3\\envs\\creditcardfraud\\lib\\site-packages (3.4.0)\n",
      "Requirement already satisfied: dash-colorscales in c:\\users\\fhash\\anaconda3\\envs\\creditcardfraud\\lib\\site-packages (from dtale) (0.0.4)\n",
      "Requirement already satisfied: dash-daq in c:\\users\\fhash\\anaconda3\\envs\\creditcardfraud\\lib\\site-packages (from dtale) (0.5.0)\n",
      "Requirement already satisfied: Flask-Compress in c:\\users\\fhash\\anaconda3\\envs\\creditcardfraud\\lib\\site-packages (from dtale) (1.13)\n",
      "Requirement already satisfied: future>=0.14.0 in c:\\users\\fhash\\anaconda3\\envs\\creditcardfraud\\lib\\site-packages (from dtale) (0.18.3)\n",
      "Requirement already satisfied: kaleido in c:\\users\\fhash\\anaconda3\\envs\\creditcardfraud\\lib\\site-packages (from dtale) (0.2.1)\n",
      "Requirement already satisfied: missingno in c:\\users\\fhash\\anaconda3\\envs\\creditcardfraud\\lib\\site-packages (from dtale) (0.5.2)\n",
      "Requirement already satisfied: pandas in c:\\users\\fhash\\anaconda3\\envs\\creditcardfraud\\lib\\site-packages (from dtale) (2.0.3)\n",
      "Requirement already satisfied: squarify in c:\\users\\fhash\\anaconda3\\envs\\creditcardfraud\\lib\\site-packages (from dtale) (0.4.3)\n",
      "Requirement already satisfied: strsimpy in c:\\users\\fhash\\anaconda3\\envs\\creditcardfraud\\lib\\site-packages (from dtale) (0.2.1)\n",
      "Requirement already satisfied: six in c:\\users\\fhash\\anaconda3\\envs\\creditcardfraud\\lib\\site-packages (from dtale) (1.16.0)\n",
      "Requirement already satisfied: xlrd in c:\\users\\fhash\\anaconda3\\envs\\creditcardfraud\\lib\\site-packages (from dtale) (2.0.1)\n",
      "Requirement already satisfied: beautifulsoup4 in c:\\users\\fhash\\anaconda3\\envs\\creditcardfraud\\lib\\site-packages (from dtale) (4.12.2)\n",
      "Requirement already satisfied: certifi in c:\\users\\fhash\\anaconda3\\envs\\creditcardfraud\\lib\\site-packages (from dtale) (2023.7.22)\n",
      "Requirement already satisfied: cycler in c:\\users\\fhash\\anaconda3\\envs\\creditcardfraud\\lib\\site-packages (from dtale) (0.11.0)\n",
      "Requirement already satisfied: flask-ngrok in c:\\users\\fhash\\anaconda3\\envs\\creditcardfraud\\lib\\site-packages (from dtale) (0.0.25)\n",
      "Requirement already satisfied: lz4 in c:\\users\\fhash\\anaconda3\\envs\\creditcardfraud\\lib\\site-packages (from dtale) (4.3.2)\n",
      "Requirement already satisfied: dash-bootstrap-components<=1.3.1 in c:\\users\\fhash\\anaconda3\\envs\\creditcardfraud\\lib\\site-packages (from dtale) (1.3.1)\n",
      "Requirement already satisfied: seaborn in c:\\users\\fhash\\anaconda3\\envs\\creditcardfraud\\lib\\site-packages (from dtale) (0.12.2)\n",
      "Requirement already satisfied: networkx in c:\\users\\fhash\\anaconda3\\envs\\creditcardfraud\\lib\\site-packages (from dtale) (3.1)\n",
      "Requirement already satisfied: scikit-learn in c:\\users\\fhash\\anaconda3\\envs\\creditcardfraud\\lib\\site-packages (from dtale) (1.3.0)\n",
      "Requirement already satisfied: statsmodels in c:\\users\\fhash\\anaconda3\\envs\\creditcardfraud\\lib\\site-packages (from dtale) (0.14.0)\n",
      "Requirement already satisfied: numpy in c:\\users\\fhash\\anaconda3\\envs\\creditcardfraud\\lib\\site-packages (from dtale) (1.25.2)\n",
      "Requirement already satisfied: openpyxl!=3.2.0b1 in c:\\users\\fhash\\anaconda3\\envs\\creditcardfraud\\lib\\site-packages (from dtale) (3.1.2)\n",
      "Requirement already satisfied: xarray in c:\\users\\fhash\\anaconda3\\envs\\creditcardfraud\\lib\\site-packages (from dtale) (2023.8.0)\n",
      "Requirement already satisfied: dash in c:\\users\\fhash\\anaconda3\\envs\\creditcardfraud\\lib\\site-packages (from dtale) (2.13.0)\n",
      "Requirement already satisfied: et-xmlfile in c:\\users\\fhash\\anaconda3\\envs\\creditcardfraud\\lib\\site-packages (from dtale) (1.1.0)\n",
      "Requirement already satisfied: plotly in c:\\users\\fhash\\anaconda3\\envs\\creditcardfraud\\lib\\site-packages (from dtale) (5.16.1)\n",
      "Collecting Flask<2.3 (from dtale)\n",
      "  Using cached Flask-2.2.5-py3-none-any.whl (101 kB)\n",
      "Requirement already satisfied: itsdangerous in c:\\users\\fhash\\anaconda3\\envs\\creditcardfraud\\lib\\site-packages (from dtale) (2.1.2)\n",
      "Requirement already satisfied: requests in c:\\users\\fhash\\anaconda3\\envs\\creditcardfraud\\lib\\site-packages (from dtale) (2.31.0)\n",
      "Collecting werkzeug<2.3 (from dtale)\n",
      "  Using cached Werkzeug-2.2.3-py3-none-any.whl (233 kB)\n",
      "Requirement already satisfied: matplotlib in c:\\users\\fhash\\anaconda3\\envs\\creditcardfraud\\lib\\site-packages (from dtale) (3.7.2)\n",
      "Requirement already satisfied: scipy in c:\\users\\fhash\\anaconda3\\envs\\creditcardfraud\\lib\\site-packages (from dtale) (1.11.2)\n",
      "Requirement already satisfied: dash-html-components==2.0.0 in c:\\users\\fhash\\anaconda3\\envs\\creditcardfraud\\lib\\site-packages (from dash->dtale) (2.0.0)\n",
      "Requirement already satisfied: dash-core-components==2.0.0 in c:\\users\\fhash\\anaconda3\\envs\\creditcardfraud\\lib\\site-packages (from dash->dtale) (2.0.0)\n",
      "Requirement already satisfied: dash-table==5.0.0 in c:\\users\\fhash\\anaconda3\\envs\\creditcardfraud\\lib\\site-packages (from dash->dtale) (5.0.0)\n",
      "Requirement already satisfied: typing-extensions>=4.1.1 in c:\\users\\fhash\\anaconda3\\envs\\creditcardfraud\\lib\\site-packages (from dash->dtale) (4.7.1)\n",
      "Requirement already satisfied: retrying in c:\\users\\fhash\\anaconda3\\envs\\creditcardfraud\\lib\\site-packages (from dash->dtale) (1.3.4)\n",
      "Requirement already satisfied: ansi2html in c:\\users\\fhash\\anaconda3\\envs\\creditcardfraud\\lib\\site-packages (from dash->dtale) (1.8.0)\n",
      "Requirement already satisfied: nest-asyncio in c:\\users\\fhash\\anaconda3\\envs\\creditcardfraud\\lib\\site-packages (from dash->dtale) (1.5.6)\n",
      "Requirement already satisfied: setuptools in c:\\users\\fhash\\appdata\\roaming\\python\\python310\\site-packages (from dash->dtale) (68.0.0)\n",
      "Requirement already satisfied: Jinja2>=3.0 in c:\\users\\fhash\\anaconda3\\envs\\creditcardfraud\\lib\\site-packages (from Flask<2.3->dtale) (3.1.2)\n",
      "Requirement already satisfied: click>=8.0 in c:\\users\\fhash\\anaconda3\\envs\\creditcardfraud\\lib\\site-packages (from Flask<2.3->dtale) (8.1.7)\n",
      "Requirement already satisfied: tenacity>=6.2.0 in c:\\users\\fhash\\anaconda3\\envs\\creditcardfraud\\lib\\site-packages (from plotly->dtale) (8.2.3)\n",
      "Requirement already satisfied: packaging in c:\\users\\fhash\\anaconda3\\envs\\creditcardfraud\\lib\\site-packages (from plotly->dtale) (23.1)\n",
      "Requirement already satisfied: MarkupSafe>=2.1.1 in c:\\users\\fhash\\anaconda3\\envs\\creditcardfraud\\lib\\site-packages (from werkzeug<2.3->dtale) (2.1.3)\n",
      "Requirement already satisfied: soupsieve>1.2 in c:\\users\\fhash\\anaconda3\\envs\\creditcardfraud\\lib\\site-packages (from beautifulsoup4->dtale) (2.5)\n",
      "Requirement already satisfied: brotli in c:\\users\\fhash\\anaconda3\\envs\\creditcardfraud\\lib\\site-packages (from Flask-Compress->dtale) (1.0.9)\n",
      "Requirement already satisfied: contourpy>=1.0.1 in c:\\users\\fhash\\anaconda3\\envs\\creditcardfraud\\lib\\site-packages (from matplotlib->dtale) (1.1.0)\n",
      "Requirement already satisfied: fonttools>=4.22.0 in c:\\users\\fhash\\anaconda3\\envs\\creditcardfraud\\lib\\site-packages (from matplotlib->dtale) (4.42.1)\n",
      "Requirement already satisfied: kiwisolver>=1.0.1 in c:\\users\\fhash\\anaconda3\\envs\\creditcardfraud\\lib\\site-packages (from matplotlib->dtale) (1.4.5)\n",
      "Requirement already satisfied: pillow>=6.2.0 in c:\\users\\fhash\\anaconda3\\envs\\creditcardfraud\\lib\\site-packages (from matplotlib->dtale) (10.0.0)\n",
      "Requirement already satisfied: pyparsing<3.1,>=2.3.1 in c:\\users\\fhash\\anaconda3\\envs\\creditcardfraud\\lib\\site-packages (from matplotlib->dtale) (3.0.9)\n",
      "Requirement already satisfied: python-dateutil>=2.7 in c:\\users\\fhash\\anaconda3\\envs\\creditcardfraud\\lib\\site-packages (from matplotlib->dtale) (2.8.2)\n",
      "Requirement already satisfied: pytz>=2020.1 in c:\\users\\fhash\\anaconda3\\envs\\creditcardfraud\\lib\\site-packages (from pandas->dtale) (2023.3.post1)\n",
      "Requirement already satisfied: tzdata>=2022.1 in c:\\users\\fhash\\anaconda3\\envs\\creditcardfraud\\lib\\site-packages (from pandas->dtale) (2023.3)\n",
      "Requirement already satisfied: charset-normalizer<4,>=2 in c:\\users\\fhash\\anaconda3\\envs\\creditcardfraud\\lib\\site-packages (from requests->dtale) (3.2.0)\n",
      "Requirement already satisfied: idna<4,>=2.5 in c:\\users\\fhash\\anaconda3\\envs\\creditcardfraud\\lib\\site-packages (from requests->dtale) (3.4)\n",
      "Requirement already satisfied: urllib3<3,>=1.21.1 in c:\\users\\fhash\\anaconda3\\envs\\creditcardfraud\\lib\\site-packages (from requests->dtale) (1.26.16)\n",
      "Requirement already satisfied: joblib>=1.1.1 in c:\\users\\fhash\\anaconda3\\envs\\creditcardfraud\\lib\\site-packages (from scikit-learn->dtale) (1.3.2)\n",
      "Requirement already satisfied: threadpoolctl>=2.0.0 in c:\\users\\fhash\\anaconda3\\envs\\creditcardfraud\\lib\\site-packages (from scikit-learn->dtale) (3.2.0)\n",
      "Requirement already satisfied: patsy>=0.5.2 in c:\\users\\fhash\\anaconda3\\envs\\creditcardfraud\\lib\\site-packages (from statsmodels->dtale) (0.5.3)\n",
      "Requirement already satisfied: colorama in c:\\users\\fhash\\anaconda3\\envs\\creditcardfraud\\lib\\site-packages (from click>=8.0->Flask<2.3->dtale) (0.4.6)\n",
      "Installing collected packages: werkzeug, Flask\n",
      "  Attempting uninstall: werkzeug\n",
      "    Found existing installation: Werkzeug 2.3.7\n",
      "    Uninstalling Werkzeug-2.3.7:\n",
      "      Successfully uninstalled Werkzeug-2.3.7\n",
      "  Attempting uninstall: Flask\n",
      "    Found existing installation: Flask 2.3.2\n",
      "    Uninstalling Flask-2.3.2:\n",
      "      Successfully uninstalled Flask-2.3.2\n",
      "Successfully installed Flask-2.2.5 werkzeug-2.2.3\n",
      "Note: you may need to restart the kernel to use updated packages.\n"
     ]
    }
   ],
   "source": [
    "%pip install dtale"
   ]
  },
  {
   "cell_type": "code",
   "execution_count": 2,
   "metadata": {},
   "outputs": [],
   "source": [
    "import pandas as pd\n",
    "df = pd.read_csv('../data/credit-card-default.csv')"
   ]
  },
  {
   "cell_type": "code",
   "execution_count": 3,
   "metadata": {},
   "outputs": [
    {
     "data": {
      "text/html": [
       "\n",
       "        <iframe\n",
       "            width=\"100%\"\n",
       "            height=\"475\"\n",
       "            src=\"http://FarazPC:40000/dtale/iframe/1\"\n",
       "            frameborder=\"0\"\n",
       "            allowfullscreen\n",
       "            \n",
       "        ></iframe>\n",
       "        "
      ],
      "text/plain": [
       "<IPython.lib.display.IFrame at 0x28a4c3d93c0>"
      ]
     },
     "metadata": {},
     "output_type": "display_data"
    }
   ],
   "source": [
    "import dtale\n",
    "dt = dtale.show(df, notebook=True)"
   ]
  },
  {
   "cell_type": "code",
   "execution_count": null,
   "metadata": {},
   "outputs": [],
   "source": []
  }
 ],
 "metadata": {
  "kernelspec": {
   "display_name": "mlgen",
   "language": "python",
   "name": "python3"
  },
  "language_info": {
   "codemirror_mode": {
    "name": "ipython",
    "version": 3
   },
   "file_extension": ".py",
   "mimetype": "text/x-python",
   "name": "python",
   "nbconvert_exporter": "python",
   "pygments_lexer": "ipython3",
   "version": "3.10.12"
  },
  "orig_nbformat": 4
 },
 "nbformat": 4,
 "nbformat_minor": 2
}
